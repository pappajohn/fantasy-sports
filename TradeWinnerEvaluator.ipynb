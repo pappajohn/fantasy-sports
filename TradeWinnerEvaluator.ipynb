{
  "nbformat": 4,
  "nbformat_minor": 0,
  "metadata": {
    "colab": {
      "provenance": [],
      "authorship_tag": "ABX9TyN7Mrp9T9yKUzs8WNoo27mj",
      "include_colab_link": true
    },
    "kernelspec": {
      "name": "python3",
      "display_name": "Python 3"
    },
    "language_info": {
      "name": "python"
    }
  },
  "cells": [
    {
      "cell_type": "markdown",
      "metadata": {
        "id": "view-in-github",
        "colab_type": "text"
      },
      "source": [
        "<a href=\"https://colab.research.google.com/github/pappajohn/fantasy-sports/blob/main/TradeWinnerEvaluator.ipynb\" target=\"_parent\"><img src=\"https://colab.research.google.com/assets/colab-badge.svg\" alt=\"Open In Colab\"/></a>"
      ]
    },
    {
      "cell_type": "markdown",
      "source": [
        "##Let's see how trades are going!"
      ],
      "metadata": {
        "id": "n_hpFnWfqJxv"
      }
    },
    {
      "cell_type": "code",
      "source": [
        "# Install libraries\n",
        "%pip install espn_api\n",
        "\n",
        "import pandas as pd\n",
        "import requests\n",
        "import json\n",
        "\n",
        "from espn_api.football import League\n",
        "from collections import defaultdict"
      ],
      "metadata": {
        "colab": {
          "base_uri": "https://localhost:8080/"
        },
        "collapsed": true,
        "id": "6Yxd1kDXu2EG",
        "outputId": "3ccab4b0-056c-4249-b86f-ff1b731861f5"
      },
      "execution_count": null,
      "outputs": [
        {
          "output_type": "stream",
          "name": "stdout",
          "text": [
            "Requirement already satisfied: espn_api in /usr/local/lib/python3.12/dist-packages (0.45.1)\n",
            "Requirement already satisfied: requests<3.0.0,>=2.0.0 in /usr/local/lib/python3.12/dist-packages (from espn_api) (2.32.4)\n",
            "Requirement already satisfied: urllib3<=2.2.3 in /usr/local/lib/python3.12/dist-packages (from espn_api) (2.2.3)\n",
            "Requirement already satisfied: charset_normalizer<4,>=2 in /usr/local/lib/python3.12/dist-packages (from requests<3.0.0,>=2.0.0->espn_api) (3.4.3)\n",
            "Requirement already satisfied: idna<4,>=2.5 in /usr/local/lib/python3.12/dist-packages (from requests<3.0.0,>=2.0.0->espn_api) (3.10)\n",
            "Requirement already satisfied: certifi>=2017.4.17 in /usr/local/lib/python3.12/dist-packages (from requests<3.0.0,>=2.0.0->espn_api) (2025.8.3)\n"
          ]
        }
      ]
    },
    {
      "cell_type": "code",
      "source": [
        "# Authenticate in to the private league at https://github.com/pappajohn/fantasy-sports\n",
        "\n",
        "league_id = 486993\n",
        "espn_s2 = 'AEC1VWgqxbVS...' #REPLACE\n",
        "swid = '{0CC7C368-D8D1-4ED...' #REPLACE\n",
        "year = 2025 # Replace with the desired latest year\n",
        "league = League(league_id=league_id, espn_s2=espn_s2, swid=swid, year=year)\n",
        "\n",
        "kw = 4567048\n",
        "justinj = 4262921\n",
        "jamo = 4426388"
      ],
      "metadata": {
        "id": "dTDDpDoiSQmN"
      },
      "execution_count": null,
      "outputs": []
    },
    {
      "cell_type": "code",
      "source": [
        "# function to get score\n",
        "\n",
        "def points_since_trade(player_id, first_week_of_counting):\n",
        "  d = league.player_info(playerId=player_id).stats\n",
        "  total_points = sum(v['points'] for k, v in d.items() if k > first_week_of_counting and 'points' in v)\n",
        "  #name = player(playerId=player_id).player_name NO SUCH OBJECT EXISTS\n",
        "  return total_points\n"
      ],
      "metadata": {
        "id": "7ZneNa_Skdcp"
      },
      "execution_count": null,
      "outputs": []
    },
    {
      "cell_type": "code",
      "source": [
        "# Get cumulative score for each traded player\n",
        "\n",
        "print(\"JJ total = \" + str(points_since_trade(justinj, 3)))\n",
        "print(\"Jamo total = \" + str(points_since_trade(jamo, 3)))\n",
        "print(\"KW3 total = \" + str(points_since_trade(kw, 3)))"
      ],
      "metadata": {
        "colab": {
          "base_uri": "https://localhost:8080/"
        },
        "id": "qX3h381VlPSm",
        "outputId": "8f31c201-c7d6-4a28-89f4-9a84e9102065"
      },
      "execution_count": null,
      "outputs": [
        {
          "output_type": "stream",
          "name": "stdout",
          "text": [
            "JJ total = 17.6\n",
            "Jamo total = 4.7\n",
            "KW3 total = 11.5\n"
          ]
        }
      ]
    },
    {
      "cell_type": "code",
      "source": [
        "# Compare to score of highest projected waiver player at position (need to figure out the interweek part)\n",
        "\n",
        "def waiver_alternates():\n",
        "  for pos in ['QB', 'RB', 'WR', 'TE']:\n",
        "    players = league.free_agents(position=pos)\n",
        "    #print(players)\n",
        "    sorted_players = sorted(players, key=lambda player: player.projected_points, reverse=True)\n",
        "    #print(sorted_players)\n",
        "    print(\"The best WW \" + str(pos) + \" was \" + str(sorted_players[0].name) + \" with \" + str(sorted_players[0].points) + \" and \" + str(sorted_players[0].projected_points) + \" projected\")\n"
      ],
      "metadata": {
        "id": "visU6IJatnsb"
      },
      "execution_count": null,
      "outputs": []
    },
    {
      "cell_type": "code",
      "source": [
        "waiver_alternates()"
      ],
      "metadata": {
        "colab": {
          "base_uri": "https://localhost:8080/"
        },
        "id": "82WPtEFzwDN9",
        "outputId": "a589d3dc-fa9f-4099-e7ad-30fd21e318c6"
      },
      "execution_count": null,
      "outputs": [
        {
          "output_type": "stream",
          "name": "stdout",
          "text": [
            "The best WW QB was Geno Smith with 9.78 and 17.51 projected\n",
            "The best WW RB was Devin Singletary with 2.8 and 6.33 projected\n",
            "The best WW WR was Dontayvion Wicks with 2.9 and 7.99 projected\n",
            "The best WW TE was Dalton Schultz with 5.5 and 7.22 projected\n"
          ]
        }
      ]
    },
    {
      "cell_type": "markdown",
      "source": [
        "#Unfinished work\n",
        "Compare performance of acquired player to best alternative (highest projected scoring player at similar position on owner bench or waivers)\n",
        "\n",
        "Do multi-week sums of best alternative player"
      ],
      "metadata": {
        "id": "EYcY7SkPnwgi"
      }
    },
    {
      "cell_type": "code",
      "source": [
        "## Reverse ID lookup from here https://github.com/mattabets/espn_api_player_id_reverse_lookup/blob/main/README.md\n",
        "\n",
        "def espn_api_player_id_reverse_lookup(player_name):\n",
        "    TEAM_API = \"https://site.api.espn.com/apis/site/v2/sports/football/nfl/teams\"\n",
        "    response = requests.get(TEAM_API)\n",
        "\n",
        "    if response.status_code == 200:\n",
        "        teams_data = response.json()\n",
        "        teams = teams_data[\"sports\"][0][\"leagues\"][0][\"teams\"]\n",
        "\n",
        "        roster = []\n",
        "\n",
        "        # Iterate over each team\n",
        "        for team in teams:\n",
        "            team_id = team[\"team\"][\"id\"]\n",
        "            team_name = team[\"team\"][\"abbreviation\"]\n",
        "\n",
        "            # Fetch roster data for the team\n",
        "            roster_url = f\"{TEAM_API}/{team_id}?enable=roster\"\n",
        "            roster_response = requests.get(roster_url)\n",
        "\n",
        "            if roster_response.status_code == 200:\n",
        "                roster_data = roster_response.json()\n",
        "\n",
        "                # Extract athlete information\n",
        "                athletes = [\n",
        "                    {\n",
        "                        \"id\": athlete[\"id\"],\n",
        "                        \"team\": team_name,\n",
        "                        \"fullName\": athlete[\"fullName\"],\n",
        "                    }\n",
        "                    for athlete in roster_data[\"team\"][\"athletes\"]\n",
        "                ]\n",
        "\n",
        "                # Add athlete information to the roster list\n",
        "                roster.extend(athletes)\n",
        "\n",
        "        # Search for player in the roster\n",
        "        found_players = [\n",
        "            {\"id\": player[\"id\"], \"team\": player[\"team\"]}\n",
        "            for player in roster\n",
        "            if player[\"fullName\"].lower() == player_name.lower()\n",
        "        ]\n",
        "\n",
        "        if found_players:\n",
        "            # Return the player ID instead of printing it\n",
        "            return found_players[0]['id']  # Assuming only one player is found\n",
        "        else:\n",
        "            print(\"Player not found.\")\n",
        "            return None\n",
        "    else:\n",
        "        print(\"Failed to fetch NFL teams data.\")\n",
        "        return None\n",
        "\n",
        "\n"
      ],
      "metadata": {
        "id": "pAWDabNviF77"
      },
      "execution_count": null,
      "outputs": []
    },
    {
      "cell_type": "code",
      "source": [
        "# Call the function with the desired player name\n",
        "player_name = 'Patrick Mahomes'\n",
        "player_id = espn_api_player_id_reverse_lookup(player_name)\n",
        "\n",
        "# Print the player ID if found\n",
        "if player_id:\n",
        "    print(\"Player ID:\", player_id)\n",
        "else:\n",
        "    print(\"Player not found.\")"
      ],
      "metadata": {
        "colab": {
          "base_uri": "https://localhost:8080/"
        },
        "id": "pnntzxDRiIrv",
        "outputId": "0e0c7cd6-06f5-42de-ffee-83b8ce9003e9"
      },
      "execution_count": null,
      "outputs": [
        {
          "output_type": "stream",
          "name": "stdout",
          "text": [
            "Player ID: 3139477\n"
          ]
        }
      ]
    },
    {
      "cell_type": "code",
      "source": [
        "# Find the best free agent at position X in a fixed week\n",
        "\n",
        "## Need to make sure we have the right week\n",
        "\n",
        "## Then generate a list and grab the points for the highest projected player\n",
        "\n",
        "## Here's a one off version, we need to do it programmatically\n",
        "\n",
        "players = league.free_agents(position='QB')\n",
        "\n",
        "# Sort players by projected points in descending order\n",
        "sorted_players = sorted(players, key=lambda player: player.projected_points, reverse=True)\n",
        "\n",
        "print(\"Free Agents (QB) sorted by Projected Points:\")\n",
        "for player in sorted_players:\n",
        "    print(f\"Player({player.name}, points:{player.points}, projected:{player.projected_points})\")\n",
        "\n",
        "print(sorted_players[0].points)"
      ],
      "metadata": {
        "colab": {
          "base_uri": "https://localhost:8080/"
        },
        "id": "VK3M6CLRoQ6C",
        "outputId": "7aa5987c-23ed-459c-83b2-cc9b54f2a384"
      },
      "execution_count": null,
      "outputs": [
        {
          "output_type": "stream",
          "name": "stdout",
          "text": [
            "Free Agents (QB) sorted by Projected Points:\n",
            "Player(Geno Smith, points:9.78, projected:17.51)\n",
            "Player(Kyler Murray, points:16.1, projected:16.31)\n",
            "Player(Matthew Stafford, points:27.4, projected:16.0)\n",
            "Player(Tua Tagovailoa, points:0, projected:15.63)\n",
            "Player(Bryce Young, points:10.3, projected:15.34)\n",
            "Player(Michael Penix Jr., points:18.72, projected:14.55)\n",
            "Player(Carson Wentz, points:21.2, projected:14.36)\n",
            "Player(Jake Browning, points:0, projected:14.1)\n",
            "Player(Dak Prescott, points:30.96, projected:14.08)\n",
            "Player(Jaxson Dart, points:19.84, projected:14.02)\n",
            "Player(Spencer Rattler, points:13.94, projected:13.78)\n",
            "Player(Sam Darnold, points:16.08, projected:13.02)\n",
            "Player(Aaron Rodgers, points:12.8, projected:12.69)\n",
            "Player(Cam Ward, points:4.52, projected:12.4)\n",
            "Player(Joe Flacco, points:1.26, projected:11.63)\n",
            "Player(Jalen Milroe, points:0.0, projected:0.16)\n",
            "Player(J.J. McCarthy, points:0.0, projected:0.0)\n",
            "Player(Marcus Mariota, points:16.24, projected:0.0)\n",
            "Player(Russell Wilson, points:0.32, projected:0.0)\n",
            "Player(Shedeur Sanders, points:0.0, projected:0.0)\n",
            "Player(Mac Jones, points:0.0, projected:0.0)\n",
            "Player(Anthony Richardson Sr., points:0.0, projected:0.0)\n",
            "Player(Kirk Cousins, points:0.0, projected:0.0)\n",
            "Player(Tyrod Taylor, points:0, projected:0.0)\n",
            "Player(Tyler Shough, points:0.0, projected:0.0)\n",
            "Player(Dillon Gabriel, points:0.0, projected:0.0)\n",
            "Player(Jameis Winston, points:0.0, projected:0.0)\n",
            "Player(Joe Milton III, points:0.0, projected:0.0)\n",
            "Player(Deshaun Watson, points:0.0, projected:0)\n",
            "Player(Jimmy Garoppolo, points:0.0, projected:0.0)\n",
            "Player(Kenny Pickett, points:0.0, projected:0.0)\n",
            "Player(Will Howard, points:0.0, projected:0)\n",
            "Player(Mason Rudolph, points:0.0, projected:0.0)\n",
            "Player(Malik Willis, points:0.0, projected:0.0)\n",
            "Player(Tyson Bagent, points:0.0, projected:0.0)\n",
            "Player(Gardner Minshew, points:-0.3, projected:0.0)\n",
            "Player(Zach Wilson, points:0, projected:0.0)\n",
            "Player(Tanner McKee, points:0.0, projected:0.0)\n",
            "Player(Teddy Bridgewater, points:0.0, projected:0.0)\n",
            "Player(Mitchell Trubisky, points:0.0, projected:0.0)\n",
            "Player(Joshua Dobbs, points:-0.2, projected:0.0)\n",
            "Player(Quinn Ewers, points:0, projected:0)\n",
            "Player(Cooper Rush, points:2.08, projected:0.0)\n",
            "Player(Tommy DeVito, points:0.0, projected:0)\n",
            "Player(Stetson Bennett IV, points:0.0, projected:0)\n",
            "Player(Kyle Allen, points:-0.2, projected:0.0)\n",
            "Player(Sam Howell, points:0.0, projected:0.0)\n",
            "Player(Jarrett Stidham, points:0, projected:0.0)\n",
            "Player(Andy Dalton, points:6.32, projected:0.0)\n",
            "Player(Trey Lance, points:0.0, projected:0.0)\n",
            "9.78\n"
          ]
        }
      ]
    },
    {
      "cell_type": "code",
      "metadata": {
        "colab": {
          "base_uri": "https://localhost:8080/"
        },
        "id": "9e4f44fe",
        "outputId": "8b19723e-26f1-4cc0-c602-b3115769c081"
      },
      "source": [
        "waiver_alternate(\"QB\")"
      ],
      "execution_count": null,
      "outputs": [
        {
          "output_type": "stream",
          "name": "stdout",
          "text": [
            "Player(Kyler Murray, points:16.1, projected:16.31)\n"
          ]
        }
      ]
    },
    {
      "cell_type": "markdown",
      "source": [
        "##Resources to learn more"
      ],
      "metadata": {
        "id": "qUlY01xmr1Zn"
      }
    },
    {
      "cell_type": "code",
      "source": [
        "# If you want to explore what the league object looks like, do this\n",
        "for attribute_name in dir(league):\n",
        "  try:\n",
        "    attribute_value = getattr(league, attribute_name)\n",
        "    print(f\"{attribute_name}: {attribute_value}\")\n",
        "    print(\" \")\n",
        "  except Exception as e:\n",
        "    print(f\"Could not access attribute {attribute_name}: {e}\")\n",
        "    print(\" \")"
      ],
      "metadata": {
        "id": "rSnQKdSkr6fK"
      },
      "execution_count": null,
      "outputs": []
    }
  ]
}